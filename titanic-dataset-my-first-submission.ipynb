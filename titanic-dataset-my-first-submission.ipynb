{
 "cells": [
  {
   "cell_type": "markdown",
   "id": "5358ebf4",
   "metadata": {
    "_cell_guid": "c62392b2-c4c8-420e-a1dd-a2648c1c7ebb",
    "_uuid": "b8af4a59-b629-44e4-9eb3-22496fd35657",
    "papermill": {
     "duration": 0.014878,
     "end_time": "2022-08-11T17:28:25.062891",
     "exception": false,
     "start_time": "2022-08-11T17:28:25.048013",
     "status": "completed"
    },
    "tags": []
   },
   "source": [
    "## Titanic Dataset\n",
    "\n",
    "My goal is build a new version [^1] of predictive model that predicts which passengers survived the Titanic shipwreck; and try to use some \"advanced\" (for me :smile:) techniques such as cross validation, grid search and an ensemble algorithm like \"Random Forest Classifier\". Let's see what happen :smile:\n",
    "\n",
    "[^1]: See https://www.kaggle.com/code/francescopaolol/logisticregression-on-complete-titanic-dataset"
   ]
  },
  {
   "cell_type": "markdown",
   "id": "67d9204c",
   "metadata": {
    "_cell_guid": "885e8290-8019-41f5-bcb9-1cd388ea5d59",
    "_uuid": "61953d80-19f5-407a-8fa4-71c03408aef7",
    "papermill": {
     "duration": 0.012277,
     "end_time": "2022-08-11T17:28:25.248262",
     "exception": false,
     "start_time": "2022-08-11T17:28:25.235985",
     "status": "completed"
    },
    "tags": []
   },
   "source": [
    "#  Import data set"
   ]
  },
  {
   "cell_type": "code",
   "execution_count": null,
   "id": "145b0041",
   "metadata": {
    "_cell_guid": "87069b6a-3e3c-4c35-b7ea-78eb4c2856ea",
    "_uuid": "27ad7b71-f0d2-4645-b8d1-e5d1718963de",
    "collapsed": false,
    "execution": {
     "iopub.execute_input": "2022-08-11T17:28:25.276661Z",
     "iopub.status.busy": "2022-08-11T17:28:25.276205Z",
     "iopub.status.idle": "2022-08-11T17:28:25.304186Z",
     "shell.execute_reply": "2022-08-11T17:28:25.303120Z"
    },
    "jupyter": {
     "outputs_hidden": false
    },
    "papermill": {
     "duration": 0.044641,
     "end_time": "2022-08-11T17:28:25.306750",
     "exception": false,
     "start_time": "2022-08-11T17:28:25.262109",
     "status": "completed"
    },
    "tags": []
   },
   "outputs": [],
   "source": [
    "import pandas as pd \n",
    "\n",
    "# We'll use a dataset taken from: https://www.kaggle.com/competitions/titanic\n",
    "dfTrain = pd.read_csv(\"./data/train.csv\", sep=',')\n",
    "dfTest = pd.read_csv(\"./data/test.csv\", sep=\",\")"
   ]
  },
  {
   "cell_type": "markdown",
   "id": "f993717c",
   "metadata": {
    "_cell_guid": "1acb39fa-1e66-4a91-bdc9-ae56dc6e5b16",
    "_uuid": "96667b5b-24ed-4e0f-901c-b1c7cce42d96",
    "papermill": {
     "duration": 0.012399,
     "end_time": "2022-08-11T17:28:25.332717",
     "exception": false,
     "start_time": "2022-08-11T17:28:25.320318",
     "status": "completed"
    },
    "tags": []
   },
   "source": [
    "# Basic EDA and cleaning data"
   ]
  },
  {
   "cell_type": "code",
   "execution_count": null,
   "id": "18513fd2",
   "metadata": {
    "_cell_guid": "b0f7011d-6dc2-47c0-8fb6-e69fa7df2140",
    "_uuid": "95498277-36aa-4d98-9b04-324ce377f298",
    "collapsed": false,
    "execution": {
     "iopub.execute_input": "2022-08-11T17:28:25.360127Z",
     "iopub.status.busy": "2022-08-11T17:28:25.359371Z",
     "iopub.status.idle": "2022-08-11T17:28:25.515426Z",
     "shell.execute_reply": "2022-08-11T17:28:25.514051Z"
    },
    "jupyter": {
     "outputs_hidden": false
    },
    "papermill": {
     "duration": 0.173196,
     "end_time": "2022-08-11T17:28:25.518506",
     "exception": false,
     "start_time": "2022-08-11T17:28:25.345310",
     "status": "completed"
    },
    "tags": []
   },
   "outputs": [],
   "source": [
    "from basic_exploration import *\n",
    "basicEDA(dfTrain, \"Titanic Train\")"
   ]
  },
  {
   "cell_type": "code",
   "execution_count": null,
   "id": "30107446",
   "metadata": {
    "_cell_guid": "55a98f07-0dcb-4c7b-9998-aaac4078fae8",
    "_uuid": "d3d1c9e0-8492-47db-bbdd-b992a4c05fc8",
    "collapsed": false,
    "execution": {
     "iopub.execute_input": "2022-08-11T17:28:25.551427Z",
     "iopub.status.busy": "2022-08-11T17:28:25.551009Z",
     "iopub.status.idle": "2022-08-11T17:28:25.686007Z",
     "shell.execute_reply": "2022-08-11T17:28:25.684663Z"
    },
    "jupyter": {
     "outputs_hidden": false
    },
    "papermill": {
     "duration": 0.154013,
     "end_time": "2022-08-11T17:28:25.688435",
     "exception": false,
     "start_time": "2022-08-11T17:28:25.534422",
     "status": "completed"
    },
    "tags": []
   },
   "outputs": [],
   "source": [
    "basicEDA(dfTest, \"Titanic Test\")"
   ]
  },
  {
   "cell_type": "markdown",
   "id": "1df87c97",
   "metadata": {
    "_cell_guid": "1e014931-ee38-4126-b2be-39c3b5e37af6",
    "_uuid": "36f6ad02-ba2e-490e-8932-ce99065e0f43",
    "papermill": {
     "duration": 0.017106,
     "end_time": "2022-08-11T17:28:25.723046",
     "exception": false,
     "start_time": "2022-08-11T17:28:25.705940",
     "status": "completed"
    },
    "tags": []
   },
   "source": [
    "Some considerations: first of all, we can see how \"Survived\" is our target:\n",
    "- Survived 0 = no, 1 = yes\n",
    "\n",
    "As regards the other features we have:\n",
    "- PassengerID: \n",
    "- Pclass: 1 = 1st, 2 = 2nd, 3 = 3rd\n",
    "- Name: self explanatory\n",
    "- Sex: self explanatory\n",
    "- Age: self explanatory\n",
    "- SibSp = nr of sibilings / spouses abroad\n",
    "- Parch = nr of parents / children abroad\n",
    "- Ticket = self explanatory\n",
    "- Fare = passenger fare\n",
    "- Cabin = self explanatory\n",
    "- Embarked = port of embrarkation --> C = Chernourg, Q = Queenstown, S = Southhampton\n",
    "\n",
    "I think I can do something in order to slim down this dataset."
   ]
  },
  {
   "cell_type": "markdown",
   "id": "6fa18084",
   "metadata": {
    "_cell_guid": "68859296-27b2-4619-a4dd-9a6910889d08",
    "_uuid": "adec02fa-5f60-429f-8c15-53b813b9947b",
    "papermill": {
     "duration": 0.018073,
     "end_time": "2022-08-11T17:28:25.760243",
     "exception": false,
     "start_time": "2022-08-11T17:28:25.742170",
     "status": "completed"
    },
    "tags": []
   },
   "source": [
    "We can see that the two dataset are similar."
   ]
  },
  {
   "cell_type": "markdown",
   "id": "68ea830b",
   "metadata": {
    "_cell_guid": "4eadd4b9-751e-4e6f-8c82-a44bbcaaf114",
    "_uuid": "88429990-dbf6-4b8f-a6a5-c55fa93d728c",
    "papermill": {
     "duration": 0.01791,
     "end_time": "2022-08-11T17:28:25.806853",
     "exception": false,
     "start_time": "2022-08-11T17:28:25.788943",
     "status": "completed"
    },
    "tags": []
   },
   "source": [
    "## Feature engineering"
   ]
  },
  {
   "cell_type": "markdown",
   "id": "64bffac2",
   "metadata": {
    "_cell_guid": "45bb53ca-4f4a-46bb-a4e8-c1c86087b3a3",
    "_uuid": "8bb7b3af-144d-45ab-ad1c-a3866e86a8aa",
    "papermill": {
     "duration": 0.017301,
     "end_time": "2022-08-11T17:28:25.849070",
     "exception": false,
     "start_time": "2022-08-11T17:28:25.831769",
     "status": "completed"
    },
    "tags": []
   },
   "source": [
    "So, I think that 'Name', 'Embarked', 'Cabin' and 'Ticket' features can be dropped because I don't believe that be called \"Nicholas\" or \"Augusta\" increases the possibility to survive. Same reasoning for the others features.\n",
    "Then, let's start to drop useless features."
   ]
  },
  {
   "cell_type": "code",
   "execution_count": null,
   "id": "0397c378",
   "metadata": {
    "_cell_guid": "72caefc2-14cd-40d4-a6af-50f88d6e92ab",
    "_uuid": "3a449015-29ce-4558-830b-1f816ab2d20b",
    "collapsed": false,
    "execution": {
     "iopub.execute_input": "2022-08-11T17:28:25.886220Z",
     "iopub.status.busy": "2022-08-11T17:28:25.885824Z",
     "iopub.status.idle": "2022-08-11T17:28:25.895223Z",
     "shell.execute_reply": "2022-08-11T17:28:25.893874Z"
    },
    "jupyter": {
     "outputs_hidden": false
    },
    "papermill": {
     "duration": 0.031276,
     "end_time": "2022-08-11T17:28:25.897691",
     "exception": false,
     "start_time": "2022-08-11T17:28:25.866415",
     "status": "completed"
    },
    "tags": []
   },
   "outputs": [],
   "source": [
    "delColumn(dfTrain, \"Name\")\n",
    "delColumn(dfTrain, \"Ticket\")\n",
    "delColumn(dfTrain, \"Cabin\")\n",
    "delColumn(dfTrain, \"Embarked\")"
   ]
  },
  {
   "cell_type": "markdown",
   "id": "c34dca42",
   "metadata": {
    "_cell_guid": "2a99a3f2-a237-431f-9b26-6630b72c7b6e",
    "_uuid": "edce68a8-5940-4a01-b6ee-50f3818afafb",
    "papermill": {
     "duration": 0.017051,
     "end_time": "2022-08-11T17:28:25.932269",
     "exception": false,
     "start_time": "2022-08-11T17:28:25.915218",
     "status": "completed"
    },
    "tags": []
   },
   "source": [
    "As regards \"Fare\", let's check out if the fare is related to the better chances to be survive."
   ]
  },
  {
   "cell_type": "code",
   "execution_count": null,
   "id": "69c4c2dd",
   "metadata": {
    "_cell_guid": "e9ededfd-9ba4-4b1f-aa1e-1d98133d4c6c",
    "_uuid": "df50ca60-d321-4de5-b9c5-a49d779ce989",
    "collapsed": false,
    "execution": {
     "iopub.execute_input": "2022-08-11T17:28:25.968775Z",
     "iopub.status.busy": "2022-08-11T17:28:25.968336Z",
     "iopub.status.idle": "2022-08-11T17:28:27.810259Z",
     "shell.execute_reply": "2022-08-11T17:28:27.808704Z"
    },
    "jupyter": {
     "outputs_hidden": false
    },
    "papermill": {
     "duration": 1.86643,
     "end_time": "2022-08-11T17:28:27.815868",
     "exception": false,
     "start_time": "2022-08-11T17:28:25.949438",
     "status": "completed"
    },
    "tags": []
   },
   "outputs": [],
   "source": [
    "import matplotlib.pyplot as plt\n",
    "import seaborn as sns\n",
    "\n",
    "if \"Fare\" in dfTrain.columns:\n",
    "    dfTmp = dfTrain[[\"Fare\", \"Survived\"]]\n",
    "    dfSurvivedYes = dfTmp[dfTmp.Survived == 1]\n",
    "    dfSurvivedNo = dfTmp[dfTmp.Survived == 0]\n",
    "\n",
    "    plt.figure(figsize = (15,8))\n",
    "    plt.title(\"Fare related to stay alive.\")\n",
    "    sns.histplot(data = dfSurvivedYes[dfSurvivedYes.Fare > 0],\n",
    "                 x = 'Fare',\n",
    "                 color = 'navy'\n",
    "                )\n",
    "\n",
    "    plt.figure(figsize = (15,8))\n",
    "    plt.title(\"Fare related to not survive.\")\n",
    "    sns.histplot(data = dfSurvivedNo[dfSurvivedNo.Fare > 0],\n",
    "                 x = 'Fare',\n",
    "                 color = 'navy'\n",
    "                )\n",
    "\n",
    "\n",
    "\n",
    "    plt.show()"
   ]
  },
  {
   "cell_type": "markdown",
   "id": "eb3ef327",
   "metadata": {
    "_cell_guid": "a8d76786-29dc-4871-a449-9da520039e6c",
    "_uuid": "ab6f1992-7c12-4521-be10-a1db7ea25a75",
    "papermill": {
     "duration": 0.026864,
     "end_time": "2022-08-11T17:28:27.874905",
     "exception": false,
     "start_time": "2022-08-11T17:28:27.848041",
     "status": "completed"
    },
    "tags": []
   },
   "source": [
    "So one can be dead or alive, no matter how much he paid as fare: we can also drop this feature."
   ]
  },
  {
   "cell_type": "code",
   "execution_count": null,
   "id": "055cfe9b",
   "metadata": {
    "_cell_guid": "d1edb32c-aa65-44cf-aa3f-5d8685d4716d",
    "_uuid": "bb4a9419-fbed-4a25-b4a0-bf9297f49789",
    "collapsed": false,
    "execution": {
     "iopub.execute_input": "2022-08-11T17:28:27.917807Z",
     "iopub.status.busy": "2022-08-11T17:28:27.917392Z",
     "iopub.status.idle": "2022-08-11T17:28:27.923831Z",
     "shell.execute_reply": "2022-08-11T17:28:27.922822Z"
    },
    "jupyter": {
     "outputs_hidden": false
    },
    "papermill": {
     "duration": 0.029188,
     "end_time": "2022-08-11T17:28:27.926243",
     "exception": false,
     "start_time": "2022-08-11T17:28:27.897055",
     "status": "completed"
    },
    "tags": []
   },
   "outputs": [],
   "source": [
    "delColumn(dfTrain, \"Fare\")"
   ]
  },
  {
   "cell_type": "markdown",
   "id": "37b71d61",
   "metadata": {
    "_cell_guid": "e6cd906b-0b76-4fad-b402-98b035677bf5",
    "_uuid": "42de6138-3781-4267-9bfe-66deb1e65168",
    "papermill": {
     "duration": 0.01737,
     "end_time": "2022-08-11T17:28:27.961407",
     "exception": false,
     "start_time": "2022-08-11T17:28:27.944037",
     "status": "completed"
    },
    "tags": []
   },
   "source": [
    "At this point we have few but good features. Remains to resolve the missing 'Age' records (that is 19.865 %).\n",
    "So, let's find out correlations with \"Age\" feature."
   ]
  },
  {
   "cell_type": "code",
   "execution_count": null,
   "id": "d23f2cc9",
   "metadata": {
    "_cell_guid": "717db10f-202a-4219-920f-8b56f73e1c70",
    "_uuid": "6a1017ee-03ef-4039-a78f-2726b9451e5c",
    "collapsed": false,
    "execution": {
     "iopub.execute_input": "2022-08-11T17:28:27.998688Z",
     "iopub.status.busy": "2022-08-11T17:28:27.998234Z",
     "iopub.status.idle": "2022-08-11T17:28:28.014852Z",
     "shell.execute_reply": "2022-08-11T17:28:28.013927Z"
    },
    "jupyter": {
     "outputs_hidden": false
    },
    "papermill": {
     "duration": 0.038062,
     "end_time": "2022-08-11T17:28:28.017064",
     "exception": false,
     "start_time": "2022-08-11T17:28:27.979002",
     "status": "completed"
    },
    "tags": []
   },
   "outputs": [],
   "source": [
    "dfTrain.corr()"
   ]
  },
  {
   "cell_type": "markdown",
   "id": "3c9de43b",
   "metadata": {
    "_cell_guid": "daa886b9-a917-45d2-b853-6c991ae2e16e",
    "_uuid": "df3b903a-c9cc-4ada-8164-d513f49f859f",
    "papermill": {
     "duration": 0.017865,
     "end_time": "2022-08-11T17:28:28.052952",
     "exception": false,
     "start_time": "2022-08-11T17:28:28.035087",
     "status": "completed"
    },
    "tags": []
   },
   "source": [
    "We have three feature correlate with \"Age\": Pclass (PCC: -0.369226), SibSp (PCC: -0.308247), Parch (PCC: -0.189119).\n",
    "I'm going to use \"IterativeImputer\" (which is a multivariate imputer that estimates each feature from all the others) with RandomForestRegressor..."
   ]
  },
  {
   "cell_type": "code",
   "execution_count": null,
   "id": "51f0cb79",
   "metadata": {
    "_cell_guid": "c3584e65-2272-414e-a7f4-702f4857ec75",
    "_uuid": "88d8a614-f1d8-4dc7-a5cc-bfb62088f0fe",
    "collapsed": false,
    "execution": {
     "iopub.execute_input": "2022-08-11T17:28:28.091591Z",
     "iopub.status.busy": "2022-08-11T17:28:28.090861Z",
     "iopub.status.idle": "2022-08-11T17:28:28.483759Z",
     "shell.execute_reply": "2022-08-11T17:28:28.482319Z"
    },
    "jupyter": {
     "outputs_hidden": false
    },
    "papermill": {
     "duration": 0.415815,
     "end_time": "2022-08-11T17:28:28.486863",
     "exception": false,
     "start_time": "2022-08-11T17:28:28.071048",
     "status": "completed"
    },
    "tags": []
   },
   "outputs": [],
   "source": [
    "from sklearn.experimental import enable_iterative_imputer  \n",
    "from sklearn.impute import IterativeImputer\n",
    "\n",
    "from sklearn.ensemble import RandomForestRegressor\n",
    "import pandas as pd\n",
    "\n",
    "dftmp = dfTrain.loc[:, [\"Age\"]]\n",
    "\n",
    "imp = IterativeImputer(RandomForestRegressor(), \n",
    "                       max_iter=10, \n",
    "                       tol=0.001, \n",
    "                       random_state=0, \n",
    "                       sample_posterior=False, \n",
    "                       verbose=True)\n",
    "dftmp = pd.DataFrame(imp.fit_transform(dftmp), \n",
    "                     columns=dftmp.columns)"
   ]
  },
  {
   "cell_type": "markdown",
   "id": "3022810b",
   "metadata": {
    "_cell_guid": "27349567-0842-4a07-a604-e85b07041ef0",
    "_uuid": "403ab6c6-4e58-4402-9a92-4499a2fe5cba",
    "papermill": {
     "duration": 0.018065,
     "end_time": "2022-08-11T17:28:28.523420",
     "exception": false,
     "start_time": "2022-08-11T17:28:28.505355",
     "status": "completed"
    },
    "tags": []
   },
   "source": [
    "...check if all data are property filled..."
   ]
  },
  {
   "cell_type": "code",
   "execution_count": null,
   "id": "e305254f",
   "metadata": {
    "_cell_guid": "91d6df99-573f-469e-8073-cd5b3cb0718c",
    "_uuid": "79a9867c-bfea-4b8d-a640-4dd3c4c3de5f",
    "collapsed": false,
    "execution": {
     "iopub.execute_input": "2022-08-11T17:28:28.562058Z",
     "iopub.status.busy": "2022-08-11T17:28:28.561591Z",
     "iopub.status.idle": "2022-08-11T17:28:28.571081Z",
     "shell.execute_reply": "2022-08-11T17:28:28.569292Z"
    },
    "jupyter": {
     "outputs_hidden": false
    },
    "papermill": {
     "duration": 0.031911,
     "end_time": "2022-08-11T17:28:28.574033",
     "exception": false,
     "start_time": "2022-08-11T17:28:28.542122",
     "status": "completed"
    },
    "tags": []
   },
   "outputs": [],
   "source": [
    "print(\"\\nNumber of rows where 'Age' are null or empty\")\n",
    "print(dftmp.isnull().sum())"
   ]
  },
  {
   "cell_type": "markdown",
   "id": "24b0ef90",
   "metadata": {
    "_cell_guid": "425aad6a-b354-4a39-b86a-468805117648",
    "_uuid": "106c9cb1-3906-4656-abe3-e491d67e6810",
    "papermill": {
     "duration": 0.018192,
     "end_time": "2022-08-11T17:28:28.611053",
     "exception": false,
     "start_time": "2022-08-11T17:28:28.592861",
     "status": "completed"
    },
    "tags": []
   },
   "source": [
    "...and finally refill the missing Age values."
   ]
  },
  {
   "cell_type": "code",
   "execution_count": null,
   "id": "9a93f314",
   "metadata": {
    "_cell_guid": "b4f1d0f7-e40d-4cac-a7db-951d60f09867",
    "_uuid": "d2e0adae-91da-403d-bd4f-ece3c6053b6b",
    "collapsed": false,
    "execution": {
     "iopub.execute_input": "2022-08-11T17:28:28.650263Z",
     "iopub.status.busy": "2022-08-11T17:28:28.649420Z",
     "iopub.status.idle": "2022-08-11T17:28:28.659405Z",
     "shell.execute_reply": "2022-08-11T17:28:28.658454Z"
    },
    "jupyter": {
     "outputs_hidden": false
    },
    "papermill": {
     "duration": 0.032332,
     "end_time": "2022-08-11T17:28:28.661530",
     "exception": false,
     "start_time": "2022-08-11T17:28:28.629198",
     "status": "completed"
    },
    "tags": []
   },
   "outputs": [],
   "source": [
    "delColumn(dfTrain, \"Age\")\n",
    "dfTrain = dfTrain.join(dftmp)"
   ]
  },
  {
   "cell_type": "markdown",
   "id": "6d6afc9b",
   "metadata": {
    "_cell_guid": "7e597f11-55c8-47ca-b2e2-bb2e213f2b0b",
    "_uuid": "3eae6436-de2a-4df3-b9e1-8e02c1ee472c",
    "papermill": {
     "duration": 0.017843,
     "end_time": "2022-08-11T17:28:28.697737",
     "exception": false,
     "start_time": "2022-08-11T17:28:28.679894",
     "status": "completed"
    },
    "tags": []
   },
   "source": [
    "Remains to encode the \"Sex\" feature."
   ]
  },
  {
   "cell_type": "code",
   "execution_count": null,
   "id": "6591aeb4",
   "metadata": {
    "_cell_guid": "242f9fff-0a7e-42cf-af89-3e948bec5788",
    "_uuid": "30773899-e8f5-4ac5-a763-5f82b868e8c3",
    "collapsed": false,
    "execution": {
     "iopub.execute_input": "2022-08-11T17:28:28.736315Z",
     "iopub.status.busy": "2022-08-11T17:28:28.735437Z",
     "iopub.status.idle": "2022-08-11T17:28:28.743542Z",
     "shell.execute_reply": "2022-08-11T17:28:28.742143Z"
    },
    "jupyter": {
     "outputs_hidden": false
    },
    "papermill": {
     "duration": 0.030103,
     "end_time": "2022-08-11T17:28:28.746043",
     "exception": false,
     "start_time": "2022-08-11T17:28:28.715940",
     "status": "completed"
    },
    "tags": []
   },
   "outputs": [],
   "source": [
    "from sklearn.preprocessing import LabelEncoder\n",
    "\n",
    "labelencoder_X = LabelEncoder()\n",
    "\n",
    "dfTrain[\"Sex\"] = labelencoder_X.fit_transform(dfTrain[\"Sex\"])"
   ]
  },
  {
   "cell_type": "markdown",
   "id": "7dec2768",
   "metadata": {
    "_cell_guid": "1735d9b5-4692-4848-9254-baa000e235f0",
    "_uuid": "6451c0bf-ee8c-4611-a2d2-d0e31721c686",
    "papermill": {
     "duration": 0.018022,
     "end_time": "2022-08-11T17:28:28.782705",
     "exception": false,
     "start_time": "2022-08-11T17:28:28.764683",
     "status": "completed"
    },
    "tags": []
   },
   "source": [
    "So this is our starting dataset."
   ]
  },
  {
   "cell_type": "code",
   "execution_count": null,
   "id": "3838eff2",
   "metadata": {
    "_cell_guid": "e5336916-f28b-4c99-90b4-e1301abbdc18",
    "_uuid": "fd2ae835-4b5d-4712-ac5b-51a28a4a4013",
    "collapsed": false,
    "execution": {
     "iopub.execute_input": "2022-08-11T17:28:28.821472Z",
     "iopub.status.busy": "2022-08-11T17:28:28.821036Z",
     "iopub.status.idle": "2022-08-11T17:28:28.835528Z",
     "shell.execute_reply": "2022-08-11T17:28:28.834529Z"
    },
    "jupyter": {
     "outputs_hidden": false
    },
    "papermill": {
     "duration": 0.037177,
     "end_time": "2022-08-11T17:28:28.838257",
     "exception": false,
     "start_time": "2022-08-11T17:28:28.801080",
     "status": "completed"
    },
    "tags": []
   },
   "outputs": [],
   "source": [
    "dfTrain.head()"
   ]
  },
  {
   "cell_type": "markdown",
   "id": "d6ca0d8f",
   "metadata": {
    "papermill": {
     "duration": 0.017993,
     "end_time": "2022-08-11T17:28:28.875545",
     "exception": false,
     "start_time": "2022-08-11T17:28:28.857552",
     "status": "completed"
    },
    "tags": []
   },
   "source": [
    "Same things to test dataset"
   ]
  },
  {
   "cell_type": "code",
   "execution_count": null,
   "id": "a1427c0c",
   "metadata": {
    "execution": {
     "iopub.execute_input": "2022-08-11T17:28:28.914184Z",
     "iopub.status.busy": "2022-08-11T17:28:28.913491Z",
     "iopub.status.idle": "2022-08-11T17:28:28.939710Z",
     "shell.execute_reply": "2022-08-11T17:28:28.938486Z"
    },
    "papermill": {
     "duration": 0.048266,
     "end_time": "2022-08-11T17:28:28.941968",
     "exception": false,
     "start_time": "2022-08-11T17:28:28.893702",
     "status": "completed"
    },
    "tags": []
   },
   "outputs": [],
   "source": [
    "delColumn(dfTest, \"Name\")\n",
    "delColumn(dfTest, \"Ticket\")\n",
    "delColumn(dfTest, \"Cabin\")\n",
    "delColumn(dfTest, \"Embarked\")\n",
    "delColumn(dfTest, \"Fare\")\n",
    "\n",
    "dftmp = dfTest.loc[:, [\"Age\"]]\n",
    "\n",
    "imp = IterativeImputer(RandomForestRegressor(), \n",
    "                       max_iter=10, \n",
    "                       tol=0.001, \n",
    "                       random_state=0, \n",
    "                       sample_posterior=False, \n",
    "                       verbose=True)\n",
    "dftmp = pd.DataFrame(imp.fit_transform(dftmp), \n",
    "                     columns=dftmp.columns)\n",
    "dfTest.drop(\"Age\", axis=1, inplace=True)\n",
    "dfTest = dfTest.join(dftmp)\n",
    "\n",
    "dfTest[\"Sex\"] = labelencoder_X.fit_transform(dfTest[\"Sex\"])\n",
    "\n",
    "dfTest.head()"
   ]
  },
  {
   "cell_type": "markdown",
   "id": "14bcf317",
   "metadata": {
    "_cell_guid": "2a257331-7613-4ffc-87cb-4c4f4af936d6",
    "_uuid": "be1d2982-45db-4f16-a610-a205587bf2b9",
    "papermill": {
     "duration": 0.018258,
     "end_time": "2022-08-11T17:28:28.979068",
     "exception": false,
     "start_time": "2022-08-11T17:28:28.960810",
     "status": "completed"
    },
    "tags": []
   },
   "source": [
    "# Train and test the model"
   ]
  },
  {
   "cell_type": "markdown",
   "id": "cc01d219",
   "metadata": {
    "_cell_guid": "b789e385-eab2-461d-9c36-c7363889faff",
    "_uuid": "7738daa1-1fda-46e3-bbc1-0659f5ac6c89",
    "papermill": {
     "duration": 0.018548,
     "end_time": "2022-08-11T17:28:29.016432",
     "exception": false,
     "start_time": "2022-08-11T17:28:28.997884",
     "status": "completed"
    },
    "tags": []
   },
   "source": [
    "Once prepared data, we can split data in train and test, as usual."
   ]
  },
  {
   "cell_type": "code",
   "execution_count": null,
   "id": "618d5e8e",
   "metadata": {
    "_cell_guid": "1a09e0db-e79c-46ca-9fc6-e1f3ff73aa1d",
    "_uuid": "b79b647d-be73-4e19-926a-f53cdce97528",
    "collapsed": false,
    "execution": {
     "iopub.execute_input": "2022-08-11T17:28:29.056171Z",
     "iopub.status.busy": "2022-08-11T17:28:29.055055Z",
     "iopub.status.idle": "2022-08-11T17:28:29.063474Z",
     "shell.execute_reply": "2022-08-11T17:28:29.062445Z"
    },
    "jupyter": {
     "outputs_hidden": false
    },
    "papermill": {
     "duration": 0.030865,
     "end_time": "2022-08-11T17:28:29.065912",
     "exception": false,
     "start_time": "2022-08-11T17:28:29.035047",
     "status": "completed"
    },
    "tags": []
   },
   "outputs": [],
   "source": [
    "from sklearn.model_selection import train_test_split\n",
    "\n",
    "X = dfTrain.drop(\"Survived\", axis=1)\n",
    "y = dfTrain[\"Survived\"]\n",
    "\n",
    "X_train, X_test, y_train, y_test = train_test_split(X, y, test_size=0.4)"
   ]
  },
  {
   "cell_type": "markdown",
   "id": "7eff6f44",
   "metadata": {
    "_cell_guid": "ca6c39e2-3cf2-487f-a5f2-fee1165e3b63",
    "_uuid": "df94be86-8d9c-412b-a48c-c097fb44225d",
    "papermill": {
     "duration": 0.018105,
     "end_time": "2022-08-11T17:28:29.102783",
     "exception": false,
     "start_time": "2022-08-11T17:28:29.084678",
     "status": "completed"
    },
    "tags": []
   },
   "source": [
    "And prepare the grid search with RandomForestClassifier model, and return"
   ]
  },
  {
   "cell_type": "code",
   "execution_count": null,
   "id": "c03aabba",
   "metadata": {
    "_cell_guid": "86dfcc0a-c438-4b9d-8fc7-341ca58e0b3d",
    "_uuid": "6eddaf70-3370-4817-9fae-226c7322f025",
    "collapsed": false,
    "execution": {
     "iopub.execute_input": "2022-08-11T17:28:29.142826Z",
     "iopub.status.busy": "2022-08-11T17:28:29.142172Z",
     "iopub.status.idle": "2022-08-11T17:28:29.150278Z",
     "shell.execute_reply": "2022-08-11T17:28:29.149020Z"
    },
    "jupyter": {
     "outputs_hidden": false
    },
    "papermill": {
     "duration": 0.03086,
     "end_time": "2022-08-11T17:28:29.152640",
     "exception": false,
     "start_time": "2022-08-11T17:28:29.121780",
     "status": "completed"
    },
    "tags": []
   },
   "outputs": [],
   "source": [
    "from sklearn.ensemble import RandomForestClassifier\n",
    "from sklearn.model_selection import GridSearchCV, KFold\n",
    "\n",
    "rndForestParams = { \n",
    "    \"criterion\" : [\"gini\", \"entropy\"],                  # {“gini”, “entropy”, “log_loss”},\n",
    "    \"min_samples_leaf\" : [1, 5, 10],                    # The minimum number of samples required to be at a leaf node. \n",
    "    \"min_samples_split\" : [4, 10, 14, 16],              # The minimum number of samples required to split an internal node\n",
    "    \"n_estimators\": [150, 300, 700, 1000]               # The number of trees in the forest.\n",
    "}\n",
    "\n",
    "rfModel = RandomForestClassifier(\n",
    "    max_features = \"sqrt\",                              # The number of features to consider when looking for the best split\n",
    "    oob_score = True,                                   # Whether to use out-of-bag samples to estimate the generalization score. \n",
    "                                                        # Only available if 'bootstrap = True' (that's default value!)\n",
    "    random_state = 1,                                   # Controls both the randomness of the bootstrapping of the samples used when building trees \n",
    "    n_jobs = -1                                         # '-1' means using all processors.\n",
    ")                                        \n",
    "\n",
    "cv_method = KFold(n_splits = 10, shuffle = True)\n",
    "\n",
    "\n",
    "gs = GridSearchCV(\n",
    "    estimator = rfModel, \n",
    "    param_grid = rndForestParams, \n",
    "    scoring='accuracy', \n",
    "    cv = cv_method, \n",
    "    n_jobs=-1\n",
    ")"
   ]
  },
  {
   "cell_type": "markdown",
   "id": "47b550ee",
   "metadata": {
    "_cell_guid": "4442c1c5-9730-40c4-aa49-aabb5d85961f",
    "_uuid": "43541124-e8c1-4660-ba92-65ce2f7d9bb9",
    "papermill": {
     "duration": 0.018617,
     "end_time": "2022-08-11T17:28:29.190056",
     "exception": false,
     "start_time": "2022-08-11T17:28:29.171439",
     "status": "completed"
    },
    "tags": []
   },
   "source": [
    "Now we can fit the gridsearch object (it will take a while...)."
   ]
  },
  {
   "cell_type": "code",
   "execution_count": null,
   "id": "9edd39c9",
   "metadata": {
    "_cell_guid": "103ee163-c284-4d82-a664-392c4d9a82ba",
    "_uuid": "cbd9875a-50f0-4342-9329-d468e2e930f2",
    "collapsed": false,
    "execution": {
     "iopub.execute_input": "2022-08-11T17:28:29.231038Z",
     "iopub.status.busy": "2022-08-11T17:28:29.230428Z",
     "iopub.status.idle": "2022-08-11T17:38:28.696793Z",
     "shell.execute_reply": "2022-08-11T17:38:28.695168Z"
    },
    "jupyter": {
     "outputs_hidden": false
    },
    "papermill": {
     "duration": 599.508855,
     "end_time": "2022-08-11T17:38:28.718932",
     "exception": false,
     "start_time": "2022-08-11T17:28:29.210077",
     "status": "completed"
    },
    "tags": []
   },
   "outputs": [],
   "source": [
    "gs.fit(X_train, y_train)"
   ]
  },
  {
   "cell_type": "markdown",
   "id": "d6225594",
   "metadata": {
    "_cell_guid": "48a7dcf6-6578-46cf-a338-98742f27965d",
    "_uuid": "4c2a3a47-06c7-4aba-b908-454fae37a129",
    "papermill": {
     "duration": 0.018384,
     "end_time": "2022-08-11T17:38:28.755570",
     "exception": false,
     "start_time": "2022-08-11T17:38:28.737186",
     "status": "completed"
    },
    "tags": []
   },
   "source": [
    "We can see the parameter setting that gave the best results on the hold out data..."
   ]
  },
  {
   "cell_type": "code",
   "execution_count": null,
   "id": "8bac47f2",
   "metadata": {
    "_cell_guid": "0cb1ec51-6293-49e2-a90f-6e932a3b9f15",
    "_uuid": "f0eaa027-6f34-40cb-b753-197a0f775caf",
    "collapsed": false,
    "execution": {
     "iopub.execute_input": "2022-08-11T17:38:28.794534Z",
     "iopub.status.busy": "2022-08-11T17:38:28.794145Z",
     "iopub.status.idle": "2022-08-11T17:38:28.801140Z",
     "shell.execute_reply": "2022-08-11T17:38:28.800193Z"
    },
    "jupyter": {
     "outputs_hidden": false
    },
    "papermill": {
     "duration": 0.029283,
     "end_time": "2022-08-11T17:38:28.803401",
     "exception": false,
     "start_time": "2022-08-11T17:38:28.774118",
     "status": "completed"
    },
    "tags": []
   },
   "outputs": [],
   "source": [
    "gs.best_params_"
   ]
  },
  {
   "cell_type": "markdown",
   "id": "104adb99",
   "metadata": {
    "_cell_guid": "da022e19-1885-4efd-86da-82e59d4bfcab",
    "_uuid": "76edcc11-6901-4184-b709-055fe43c201f",
    "papermill": {
     "duration": 0.018413,
     "end_time": "2022-08-11T17:38:28.840646",
     "exception": false,
     "start_time": "2022-08-11T17:38:28.822233",
     "status": "completed"
    },
    "tags": []
   },
   "source": [
    "...and set up a model with the estimator that was chosen by the search."
   ]
  },
  {
   "cell_type": "code",
   "execution_count": null,
   "id": "a6729245",
   "metadata": {
    "_cell_guid": "d8f21a27-6e52-4aba-a053-596692e91e59",
    "_uuid": "42c5d138-fffd-4a6e-8f3d-8993b9ba2f1e",
    "collapsed": false,
    "execution": {
     "iopub.execute_input": "2022-08-11T17:38:28.880185Z",
     "iopub.status.busy": "2022-08-11T17:38:28.879764Z",
     "iopub.status.idle": "2022-08-11T17:38:28.884214Z",
     "shell.execute_reply": "2022-08-11T17:38:28.883325Z"
    },
    "jupyter": {
     "outputs_hidden": false
    },
    "papermill": {
     "duration": 0.027217,
     "end_time": "2022-08-11T17:38:28.886507",
     "exception": false,
     "start_time": "2022-08-11T17:38:28.859290",
     "status": "completed"
    },
    "tags": []
   },
   "outputs": [],
   "source": [
    "RFC_Model = gs.best_estimator_"
   ]
  },
  {
   "cell_type": "markdown",
   "id": "4a0fe15d",
   "metadata": {
    "_cell_guid": "33b5fb2f-9a27-4d52-890f-3560431c01b5",
    "_uuid": "931b5b33-d60a-4a16-bc46-0fd9622b2edc",
    "papermill": {
     "duration": 0.018243,
     "end_time": "2022-08-11T17:38:28.923518",
     "exception": false,
     "start_time": "2022-08-11T17:38:28.905275",
     "status": "completed"
    },
    "tags": []
   },
   "source": [
    "And show what is the average of all cv folds for a single combination of the parameters you specify in the tuned_params."
   ]
  },
  {
   "cell_type": "code",
   "execution_count": null,
   "id": "5154139a",
   "metadata": {
    "_cell_guid": "ae99816f-41ba-4c21-a969-101b267c9dd0",
    "_uuid": "467d5850-cb2a-47dd-a238-6338ee794226",
    "collapsed": false,
    "execution": {
     "iopub.execute_input": "2022-08-11T17:38:28.962805Z",
     "iopub.status.busy": "2022-08-11T17:38:28.962190Z",
     "iopub.status.idle": "2022-08-11T17:38:28.968128Z",
     "shell.execute_reply": "2022-08-11T17:38:28.967275Z"
    },
    "jupyter": {
     "outputs_hidden": false
    },
    "papermill": {
     "duration": 0.028223,
     "end_time": "2022-08-11T17:38:28.970393",
     "exception": false,
     "start_time": "2022-08-11T17:38:28.942170",
     "status": "completed"
    },
    "tags": []
   },
   "outputs": [],
   "source": [
    "gs.best_score_                                  #Mean cross-validated score of the best_estimator"
   ]
  },
  {
   "cell_type": "markdown",
   "id": "d20f3fd5",
   "metadata": {
    "_cell_guid": "c28445be-5473-4533-bd3e-165678a0e8d7",
    "_uuid": "64409213-a949-4d0e-a630-2d8b322eeb97",
    "papermill": {
     "duration": 0.01864,
     "end_time": "2022-08-11T17:38:29.008458",
     "exception": false,
     "start_time": "2022-08-11T17:38:28.989818",
     "status": "completed"
    },
    "tags": []
   },
   "source": [
    "Let's predict on train data."
   ]
  },
  {
   "cell_type": "code",
   "execution_count": null,
   "id": "4a7eeda2",
   "metadata": {
    "_cell_guid": "a7927b76-6f8e-4059-859b-2063440f268b",
    "_uuid": "bb454724-3bec-47f8-946c-8175ea0e6f7e",
    "collapsed": false,
    "execution": {
     "iopub.execute_input": "2022-08-11T17:38:29.047466Z",
     "iopub.status.busy": "2022-08-11T17:38:29.046859Z",
     "iopub.status.idle": "2022-08-11T17:38:29.159562Z",
     "shell.execute_reply": "2022-08-11T17:38:29.158207Z"
    },
    "jupyter": {
     "outputs_hidden": false
    },
    "papermill": {
     "duration": 0.134896,
     "end_time": "2022-08-11T17:38:29.162107",
     "exception": false,
     "start_time": "2022-08-11T17:38:29.027211",
     "status": "completed"
    },
    "tags": []
   },
   "outputs": [],
   "source": [
    "RFC_Model.predict(X_train)"
   ]
  },
  {
   "cell_type": "markdown",
   "id": "d52dec5f",
   "metadata": {
    "_cell_guid": "70e2433b-cf94-4922-a755-9fd31adbe5f1",
    "_uuid": "1320d7df-8116-4a92-b8f5-7a5dffe900de",
    "papermill": {
     "duration": 0.018388,
     "end_time": "2022-08-11T17:38:29.199292",
     "exception": false,
     "start_time": "2022-08-11T17:38:29.180904",
     "status": "completed"
    },
    "tags": []
   },
   "source": [
    "And make the prediction on test data."
   ]
  },
  {
   "cell_type": "code",
   "execution_count": null,
   "id": "c901509c",
   "metadata": {
    "_cell_guid": "7a76f0af-2cb6-4988-8bad-541783de5c4a",
    "_uuid": "1cbb9c94-b7c7-4a05-8bfc-94b02b366c0b",
    "collapsed": false,
    "execution": {
     "iopub.execute_input": "2022-08-11T17:38:29.238558Z",
     "iopub.status.busy": "2022-08-11T17:38:29.238157Z",
     "iopub.status.idle": "2022-08-11T17:38:29.351821Z",
     "shell.execute_reply": "2022-08-11T17:38:29.350332Z"
    },
    "jupyter": {
     "outputs_hidden": false
    },
    "papermill": {
     "duration": 0.136188,
     "end_time": "2022-08-11T17:38:29.354359",
     "exception": false,
     "start_time": "2022-08-11T17:38:29.218171",
     "status": "completed"
    },
    "tags": []
   },
   "outputs": [],
   "source": [
    "RFC_Model.score(X_test, y_test)                 #Return the mean accuracy on the given test data and labels"
   ]
  },
  {
   "cell_type": "markdown",
   "id": "0cde317d",
   "metadata": {
    "_cell_guid": "6b44f96a-d712-4b7b-a8ed-4e39dcc23677",
    "_uuid": "3cce88f8-df7f-48e9-ab70-533906226e4c",
    "papermill": {
     "duration": 0.01896,
     "end_time": "2022-08-11T17:38:29.393357",
     "exception": false,
     "start_time": "2022-08-11T17:38:29.374397",
     "status": "completed"
    },
    "tags": []
   },
   "source": [
    "## Model Performance Analysis"
   ]
  },
  {
   "cell_type": "markdown",
   "id": "b66392f7",
   "metadata": {
    "_cell_guid": "28bce994-8c9f-42d0-8946-3492f61d336a",
    "_uuid": "d283fc0d-e249-4ff7-a5d6-12769b9eb558",
    "papermill": {
     "duration": 0.018683,
     "end_time": "2022-08-11T17:38:29.431723",
     "exception": false,
     "start_time": "2022-08-11T17:38:29.413040",
     "status": "completed"
    },
    "tags": []
   },
   "source": [
    "Displaying the learning curve, we note that we have enough data to try to make a model."
   ]
  },
  {
   "cell_type": "code",
   "execution_count": null,
   "id": "45f168ac",
   "metadata": {
    "_cell_guid": "1f28a505-7980-48c8-b41f-ab75daf498db",
    "_uuid": "b27f296d-106c-4926-b340-ac3c7bf4fdd2",
    "collapsed": false,
    "execution": {
     "iopub.execute_input": "2022-08-11T17:38:29.472333Z",
     "iopub.status.busy": "2022-08-11T17:38:29.471674Z",
     "iopub.status.idle": "2022-08-11T17:38:35.659679Z",
     "shell.execute_reply": "2022-08-11T17:38:35.658752Z"
    },
    "jupyter": {
     "outputs_hidden": false
    },
    "papermill": {
     "duration": 6.211584,
     "end_time": "2022-08-11T17:38:35.662587",
     "exception": false,
     "start_time": "2022-08-11T17:38:29.451003",
     "status": "completed"
    },
    "tags": []
   },
   "outputs": [],
   "source": [
    "from yellowbrick.model_selection import learning_curve\n",
    "\n",
    "learning_curve(RFC_Model, X_test, y_test, scoring='accuracy')\n",
    "plt.show()"
   ]
  },
  {
   "cell_type": "code",
   "execution_count": null,
   "id": "36c7866a",
   "metadata": {
    "_cell_guid": "24d9926e-4abf-4ed8-a69d-a57c4fd25d52",
    "_uuid": "dd5e4561-67fe-4c65-a7c0-7400a62c14fc",
    "collapsed": false,
    "execution": {
     "iopub.execute_input": "2022-08-11T17:38:35.709706Z",
     "iopub.status.busy": "2022-08-11T17:38:35.708601Z",
     "iopub.status.idle": "2022-08-11T17:38:35.839165Z",
     "shell.execute_reply": "2022-08-11T17:38:35.837562Z"
    },
    "jupyter": {
     "outputs_hidden": false
    },
    "papermill": {
     "duration": 0.155909,
     "end_time": "2022-08-11T17:38:35.842425",
     "exception": false,
     "start_time": "2022-08-11T17:38:35.686516",
     "status": "completed"
    },
    "tags": []
   },
   "outputs": [],
   "source": [
    "from sklearn.metrics import classification_report\n",
    "\n",
    "dfReport = pd.DataFrame(classification_report(y_test, RFC_Model.predict(X_test), output_dict=True))\n",
    "dfReport"
   ]
  },
  {
   "cell_type": "code",
   "execution_count": null,
   "id": "5b71a361",
   "metadata": {
    "_cell_guid": "6b9a4d47-45cb-4d8d-86f2-5db58dd753f7",
    "_uuid": "ad151247-878a-4ab9-b050-9b7fad1953d1",
    "collapsed": false,
    "execution": {
     "iopub.execute_input": "2022-08-11T17:38:35.891897Z",
     "iopub.status.busy": "2022-08-11T17:38:35.891341Z",
     "iopub.status.idle": "2022-08-11T17:38:36.337481Z",
     "shell.execute_reply": "2022-08-11T17:38:36.335956Z"
    },
    "jupyter": {
     "outputs_hidden": false
    },
    "papermill": {
     "duration": 0.474002,
     "end_time": "2022-08-11T17:38:36.340236",
     "exception": false,
     "start_time": "2022-08-11T17:38:35.866234",
     "status": "completed"
    },
    "tags": []
   },
   "outputs": [],
   "source": [
    "from sklearn.metrics import confusion_matrix, ConfusionMatrixDisplay\n",
    "\n",
    "predictions = RFC_Model.predict(X_test)\n",
    "cm = confusion_matrix(y_test, predictions, labels = RFC_Model.classes_)\n",
    "disp = ConfusionMatrixDisplay(confusion_matrix = cm,\n",
    "                              display_labels = RFC_Model.classes_)\n",
    "disp.plot()\n",
    "plt.grid(visible=None)\n",
    "plt.show()"
   ]
  },
  {
   "cell_type": "markdown",
   "id": "ef71d7b7",
   "metadata": {
    "_cell_guid": "66b72eb3-48e4-420c-a0fd-2576f908b189",
    "_uuid": "205953f1-7612-4fd8-b641-8a54973d255d",
    "papermill": {
     "duration": 0.021537,
     "end_time": "2022-08-11T17:38:36.383963",
     "exception": false,
     "start_time": "2022-08-11T17:38:36.362426",
     "status": "completed"
    },
    "tags": []
   },
   "source": [
    "# Submission"
   ]
  },
  {
   "cell_type": "code",
   "execution_count": null,
   "id": "b3749b7c",
   "metadata": {
    "execution": {
     "iopub.execute_input": "2022-08-11T17:38:36.430947Z",
     "iopub.status.busy": "2022-08-11T17:38:36.429753Z",
     "iopub.status.idle": "2022-08-11T17:38:36.544416Z",
     "shell.execute_reply": "2022-08-11T17:38:36.542967Z"
    },
    "papermill": {
     "duration": 0.140861,
     "end_time": "2022-08-11T17:38:36.547085",
     "exception": false,
     "start_time": "2022-08-11T17:38:36.406224",
     "status": "completed"
    },
    "tags": []
   },
   "outputs": [],
   "source": [
    "predictions = RFC_Model.predict(dfTest)\n",
    "predictions"
   ]
  },
  {
   "cell_type": "code",
   "execution_count": null,
   "id": "4ca3e225",
   "metadata": {
    "execution": {
     "iopub.execute_input": "2022-08-11T17:38:36.594419Z",
     "iopub.status.busy": "2022-08-11T17:38:36.593974Z",
     "iopub.status.idle": "2022-08-11T17:38:36.605586Z",
     "shell.execute_reply": "2022-08-11T17:38:36.604364Z"
    },
    "papermill": {
     "duration": 0.037265,
     "end_time": "2022-08-11T17:38:36.608185",
     "exception": false,
     "start_time": "2022-08-11T17:38:36.570920",
     "status": "completed"
    },
    "tags": []
   },
   "outputs": [],
   "source": [
    "PassengerId = dfTest['PassengerId']\n",
    "submission = pd.DataFrame({\"PassengerId\": PassengerId,\"Survived\": predictions})\n",
    "submission.to_csv('submission.csv', index=False)"
   ]
  }
 ],
 "metadata": {
  "kernelspec": {
   "display_name": "Python 3.6.9 64-bit",
   "language": "python",
   "name": "python3"
  },
  "language_info": {
   "codemirror_mode": {
    "name": "ipython",
    "version": 3
   },
   "file_extension": ".py",
   "mimetype": "text/x-python",
   "name": "python",
   "nbconvert_exporter": "python",
   "pygments_lexer": "ipython3",
   "version": "3.6.9"
  },
  "papermill": {
   "default_parameters": {},
   "duration": 623.373279,
   "end_time": "2022-08-11T17:38:39.257922",
   "environment_variables": {},
   "exception": null,
   "input_path": "__notebook__.ipynb",
   "output_path": "__notebook__.ipynb",
   "parameters": {},
   "start_time": "2022-08-11T17:28:15.884643",
   "version": "2.3.4"
  },
  "vscode": {
   "interpreter": {
    "hash": "31f2aee4e71d21fbe5cf8b01ff0e069b9275f58929596ceb00d14d90e3e16cd6"
   }
  }
 },
 "nbformat": 4,
 "nbformat_minor": 5
}
